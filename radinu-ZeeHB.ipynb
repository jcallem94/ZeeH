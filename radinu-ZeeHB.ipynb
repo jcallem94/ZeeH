{
 "cells": [
  {
   "cell_type": "markdown",
   "metadata": {},
   "source": [
    "#  Modelo de ZeeHB"
   ]
  },
  {
   "cell_type": "markdown",
   "metadata": {},
   "source": [
    "Sample of notebook for specific model"
   ]
  },
  {
   "cell_type": "code",
   "execution_count": 1,
   "metadata": {},
   "outputs": [
    {
     "name": "stdout",
     "output_type": "stream",
     "text": [
      "Populating the interactive namespace from numpy and matplotlib\n"
     ]
    }
   ],
   "source": [
    "%pylab inline"
   ]
  },
  {
   "cell_type": "code",
   "execution_count": 2,
   "metadata": {},
   "outputs": [],
   "source": [
    "import pandas as pd\n",
    "import numpy as np\n",
    "import os, sys, inspect\n",
    "import commands\n",
    "import hep as hp\n",
    "from matplotlib.colors import LogNorm"
   ]
  },
  {
   "cell_type": "code",
   "execution_count": 3,
   "metadata": {},
   "outputs": [],
   "source": [
    "def func(s2phi, M1, M2, MAo, Mho, MHo, v, Mu22, Muh2, lam6, lam7):\n",
    "    M12 = M1*M1; M22 = M2*M2; MAo2 = MAo*MAo; Mho2 = Mho*Mho; MHo2 = MHo*MHo; v2 = v*v\n",
    "    k = s2phi*np.log(M22/M12)/(4.*np.pi)**2\n",
    "    phi = 0.5*np.arcsin(s2phi)\n",
    "    Mu  = (M22-M12)*s2phi/(np.sqrt(2.0)*v)\n",
    "    MH2 = M12*(np.sin(phi))**2+M22*(np.cos(phi))**2\n",
    "    M332 = M12*(np.cos(phi))**2+M22*(np.sin(phi))**2\n",
    "    lam1 = 0.5*(MHo2+Mho2-np.sqrt((MHo2-Mho2)**2-4.0*v2*v2*lam6**2))/(v2)\n",
    "    lam3 = 2.0*(MH2-Mu22)/(v2)\n",
    "    lam8 = 2.0*(M332-Muh2)/(v2)\n",
    "    lam4 = 0.5*(np.sqrt((MHo2-Mho2)**2-4.0*v2*v2*lam6**2)+MHo2+Mho2+2.0*(MAo2-2.0*MH2))/(v2)\n",
    "    lam5 = 0.5*(np.sqrt((MHo2-Mho2)**2-4.0*v2*v2*lam6**2)+MHo2+Mho2-2.0*MAo2)/(v2)    \n",
    "    return k, Mu, lam1, lam3, lam4, lam5, lam8 "
   ]
  },
  {
   "cell_type": "code",
   "execution_count": 7,
   "metadata": {},
   "outputs": [],
   "source": [
    "import hep as hp\n",
    "def Kappa(s2phi,M1,M2):\n",
    "    M12 = M1*M1; M22 = M2*M2\n",
    "    k = s2phi*np.log(M22/M12)/(4.*np.pi)**2\n",
    "    return k\n",
    "\n",
    "def Inverse_Zee_Matrix(t12,t13,t23,ml,IH=False,sgnm2=-1,sgnml=1):\n",
    "    \"\"\"Inverse neutrino mass matrix normalized by kappa from\n",
    "        Mnu_diag=U^T.(kappa Y).U\n",
    "        ,\n",
    "        (Inverse_Zee_Matrix) = U. Mnu_diag.U^T/kappa\n",
    "        sgnm2=-1 guarantees real Yukawa couplings\n",
    "        \n",
    "    requires hep.py:\n",
    "       https://github.com/restrepo/BSM-Toolbox/blob/master/tests/hep.py\n",
    "    \"\"\"\n",
    "    if not IH:\n",
    "        mltmp,Dm21_2,Dm3l_2,theta12,theta23,theta13,delta=hp.neutrino_data(CL=3,IH=False,mnu1in=1E-5*1E-9)\n",
    "        theta12[1] = t12\n",
    "        theta13[1] = t13\n",
    "        theta23[1] = t23\n",
    "        U=hp.UPMNS(theta12[1],theta13[1],theta23[1])\n",
    "        m1=ml; m2=sgnm2*np.sqrt(Dm21_2[1]+m1**2); m3=sgnml*np.sqrt(Dm3l_2[1]+m1**2)\n",
    "    else:\n",
    "        mltmp,Dm21_2,Dm3l_2,theta12,theta23,theta13,delta=hp.neutrino_data(CL=3,IH=True,mnu1in=1E-5*1E-9)\n",
    "        #DEBUG signs\n",
    "        m3=ml; m2=sgnm2*np.sqrt(-Dm3l_2[1]+m3**2); m1=sgnml*np.sqrt(m2**2-Dm21_2[1])\n",
    "        theta12[1] = t12\n",
    "        theta13[1] = t13\n",
    "        theta23[1] = t23\n",
    "        U=hp.UPMNS(theta12[1],theta13[1],theta23[1])\n",
    "    \n",
    "    return np.dot( np.dot( U,np.diag([m1,m2,m3]) ), U.transpose() )\n",
    "\n",
    "def get_yukawas(X,q00=1.0e-05,q01=1.0e-04,q11=1.0e-03,q20=5.0e-04,q21=1.0e-04,q22=1.0e-06,k=7.18938581886e-05):\n",
    "    \"\"\"\n",
    "    Get the O and f full Yukawa mass matrices which define the neutrino mass matrix in the Zee model\n",
    "      Mnu=kappa*(O.M_lep.f^T+f.M_lep.O^T)\n",
    "    where M_lep is the diagonal matrix with the charged leptons\n",
    "    \n",
    "    The input X is the output of the `def Inverse_Zee_Matrix(...)` in this module\n",
    "    \"\"\"\n",
    "    import numpy.lib.scimath as sc # .sqrt -> returns complex for sqrt(negative real)\n",
    "    m_e=0.5109989461e-3;m_mu=0.1056583745;m_tau=1.77686\n",
    "    ml=np.array([m_e,m_mu,m_tau])\n",
    "    Q=np.zeros((3,3))\n",
    "    f=np.zeros((3,3))\n",
    "    \n",
    "    Q[0,0]=q00; Q[0,1]=q01; Q[1,1]=q11; Q[2,0]=q20; Q[2,1]=q21; Q[2,2]=q22\n",
    "    \n",
    "    Q[0,2] = (ml[2]**2*Q[2,2]*X[0,2]*X[2,2] + ml[2]*(2.0*X[0,2]*(ml[0]*Q[2,0]*X[0,2] + ml[1]*Q[2,1]*X[1,2]) - (ml[0]*(Q[2,0]*X[0,0] + Q[0,0]*X[0,2]) + ml[1]*(Q[2,1]*X[0,1] + Q[0,1]*X[1,2]))*X[2,2]) + np.sqrt(ml[2]**2*((-2.0*X[0,2]*(ml[0]*Q[2,0]*X[0,2] + ml[1]*Q[2,1]*X[1,2]) + (ml[0]*Q[2,0]*X[0,0] + (ml[0]*Q[0,0] - ml[2]*Q[2,2])*X[0,2] + ml[1]*(Q[2,1]*X[0,1] + Q[0,1]*X[1,2]))*X[2,2])**2 - X[2,2]**2*(ml[2]**2*Q[2,2]**2*X[0,0]*X[2,2] + ml[0]**2*X[0,0]*(Q[2,0]**2*X[0,0] - 2.0*Q[0,0]*Q[2,0]*X[0,2] + Q[0,0]**2*X[2,2]) + ml[1]**2*X[1,1]*(Q[2,1]**2*X[0,0] - 2.0*Q[0,1]*Q[2,1]*X[0,2] + Q[0,1]**2*X[2,2]) + 2.0*ml[1]*ml[2]*Q[2,2]*(Q[2,1]*X[0,0]*X[1,2] - Q[0,1]*X[0,1]*X[2,2]) + 2.0*ml[0]*(ml[2]*Q[2,2]*X[0,0]*(Q[2,0]*X[0,2] - Q[0,0]*X[2,2]) + ml[1]*(Q[2,0]*(X[0,1]*(Q[2,1]*X[0,0] - 2.0*Q[0,1]*X[0,2]) + Q[0,1]*X[0,0]*X[1,2]) + Q[0,0]*(-(Q[2,1]*X[0,0]*X[1,2]) + Q[0,1]*X[0,1]*X[2,2])))))))/(ml[2]**2*X[2,2]**2)\n",
    "    f[0,1] = (ml[0]*(Q[0,1]*Q[2,0] - Q[0,0]*Q[2,1])*X[0,0] + ml[2]*(Q[2,1]*(Q[2,2]*X[0,0] - 2*Q[0,2]*X[0,2]) + Q[0,1]*Q[0,2]*X[2,2]))/(2.*k*ml[1]*(ml[0]*Q[0,1]*(Q[0,1]*Q[2,0] - Q[0,0]*Q[2,1]) + ml[2]*Q[2,1]*(-(Q[0,2]*Q[2,1]) + Q[0,1]*Q[2,2])))\n",
    "    f[0,2] =-(Q[2,1]**2*X[0,0] - 2*Q[0,1]*Q[2,1]*X[0,2] + Q[0,1]**2*X[2,2])/(2.*k*(ml[0]*Q[0,1]*(Q[0,1]*Q[2,0] - Q[0,0]*Q[2,1]) + ml[2]*Q[2,1]*(-(Q[0,2]*Q[2,1]) + Q[0,1]*Q[2,2])))\n",
    "    f[1,2] = (ml[2]*(Q[0,2]*Q[2,1] - Q[0,1]*Q[2,2])*X[2,2] + ml[0]*(Q[2,0]*(Q[2,1]*X[0,0] - 2*Q[0,1]*X[0,2]) + Q[0,0]*Q[0,1]*X[2,2]))/(2.*k*ml[1]*(ml[0]*Q[0,1]*(Q[0,1]*Q[2,0] - Q[0,0]*Q[2,1]) + ml[2]*Q[2,1]*(-(Q[0,2]*Q[2,1]) + Q[0,1]*Q[2,2])))\n",
    "    Q[1,0] =-((ml[0]**3*Q[0,0]*(-(Q[0,1]*Q[2,0]) + Q[0,0]*Q[2,1])*X[0,0]*(Q[2,0]*(Q[2,1]*X[0,0] - 2*Q[0,1]*X[0,2]) + Q[0,0]*Q[0,1]*X[2,2]) + ml[2]*(Q[0,2]*Q[2,1] - Q[0,1]*Q[2,2])*(ml[2]**2*Q[0,2]*(Q[0,2]*Q[2,1] - Q[0,1]*Q[2,2])*X[2,2]**2 + ml[1]**2*Q[2,1]*X[1,1]*(Q[2,1]**2*X[0,0] - 2*Q[0,1]*Q[2,1]*X[0,2] + Q[0,1]**2*X[2,2]) + ml[1]*ml[2]*X[2,2]*(2*Q[2,1]*(Q[0,2]*Q[2,1] - Q[0,1]*Q[2,2])*X[0,1] + Q[1,1]*(Q[2,1]*(Q[2,2]*X[0,0] - 2*Q[0,2]*X[0,2]) + Q[0,1]*Q[0,2]*X[2,2]))) + ml[0]**2*(ml[1]*(Q[0,1]*Q[2,0] - Q[0,0]*Q[2,1])*(-(Q[1,1]*X[0,0]) + 2*Q[0,1]*X[0,1])*(Q[2,0]*(-(Q[2,1]*X[0,0]) + 2*Q[0,1]*X[0,2]) - Q[0,0]*Q[0,1]*X[2,2]) + ml[2]*(Q[0,0]*Q[2,2]*X[0,0]*(-2*Q[0,0]*Q[0,1]*Q[2,1]*X[2,2] + Q[2,0]*(-(Q[2,1]**2*X[0,0]) + 2*Q[0,1]*Q[2,1]*X[0,2] + Q[0,1]**2*X[2,2])) + Q[0,2]*(Q[2,0]**2*(Q[2,1]*X[0,0] - 2*Q[0,1]*X[0,2])**2 + Q[0,0]**2*Q[2,1]*(Q[2,1]*X[0,0] + 2*Q[0,1]*X[0,2])*X[2,2] - 2*Q[0,0]*Q[2,0]*X[0,2]*(-(Q[2,1]**2*X[0,0]) + 2*Q[0,1]*Q[2,1]*X[0,2] + Q[0,1]**2*X[2,2])))) - ml[0]*(ml[1]**2*Q[0,1]*(Q[0,1]*Q[2,0] - Q[0,0]*Q[2,1])*X[1,1]*(Q[2,1]**2*X[0,0] - 2*Q[0,1]*Q[2,1]*X[0,2] + Q[0,1]**2*X[2,2]) - ml[2]**2*(Q[0,2]*Q[2,1] - Q[0,1]*Q[2,2])*X[2,2]*(-(Q[0,0]*Q[2,1]*Q[2,2]*X[0,0]) + Q[0,2]*(2*Q[2,0]*(Q[2,1]*X[0,0] - 2*Q[0,1]*X[0,2]) + Q[0,0]*(2*Q[2,1]*X[0,2] + Q[0,1]*X[2,2]))) + ml[1]*ml[2]*(-2*(Q[0,2]*Q[2,1] - Q[0,1]*Q[2,2])*X[0,1]*(2*Q[0,0]*Q[0,1]*Q[2,1]*X[2,2] + Q[2,0]*(Q[2,1]**2*X[0,0] - 2*Q[0,1]*Q[2,1]*X[0,2] - Q[0,1]**2*X[2,2])) + Q[1,1]*(Q[0,0]*X[2,2]*(-2*Q[0,1]*Q[2,1]*Q[2,2]*X[0,0] + Q[0,2]*(Q[2,1]**2*X[0,0] + 2*Q[0,1]*Q[2,1]*X[0,2] - Q[0,1]**2*X[2,2])) + Q[2,0]*(Q[2,1]**2*X[0,0]*(-(Q[2,2]*X[0,0]) + 2*Q[0,2]*X[0,2]) + Q[0,1]**2*(Q[2,2]*X[0,0] + 2*Q[0,2]*X[0,2])*X[2,2] + 2*Q[0,1]*Q[2,1]*(Q[2,2]*X[0,0]*X[0,2] - Q[0,2]*(2*X[0,2]**2 + X[0,0]*X[2,2])))))))/(ml[0]*ml[1]*(Q[2,1]**2*X[0,0] - 2*Q[0,1]*Q[2,1]*X[0,2] + Q[0,1]**2*X[2,2])*(ml[0]*(-(Q[0,1]*Q[2,0]) + Q[0,0]*Q[2,1])*X[0,0] - ml[2]*(Q[2,1]*(Q[2,2]*X[0,0] - 2*Q[0,2]*X[0,2]) + Q[0,1]*Q[0,2]*X[2,2]))))\n",
    "    Q[1,2] = (ml[0]**2*Q[0,0]*(-(Q[0,1]*Q[2,0]) + Q[0,0]*Q[2,1])*X[0,0] + ml[0]*(-(ml[1]*(Q[0,1]*Q[2,0] - Q[0,0]*Q[2,1])*(-(Q[1,1]*X[0,0]) + 2.0*Q[0,1]*X[0,1])) + ml[2]*(-(Q[0,0]*Q[2,1]*Q[2,2]*X[0,0]) + Q[0,2]*(2.0*Q[0,0]*Q[2,1]*X[0,2] + Q[2,0]*(Q[2,1]*X[0,0] - 2.0*Q[0,1]*X[0,2])))) + ml[2]*(ml[2]*Q[0,2]*(Q[0,2]*Q[2,1] - Q[0,1]*Q[2,2])*X[2,2] + ml[1]*(2.0*Q[2,1]*(Q[0,2]*Q[2,1] - Q[0,1]*Q[2,2])*X[0,1] + Q[1,1]*(Q[2,1]*(Q[2,2]*X[0,0] - 2.0*Q[0,2]*X[0,2]) + Q[0,1]*Q[0,2]*X[2,2]))))/(ml[1]*ml[2]*(Q[2,1]**2*X[0,0] - 2.0*Q[0,1]*Q[2,1]*X[0,2] + Q[0,1]**2*X[2,2]))\n",
    "\n",
    "    \n",
    "    f[1,0]=-f[0,1]; f[2,0]=-f[0,2]; f[2,1]=-f[1,2]\n",
    "    \n",
    "    return Q,f\n",
    "\n",
    "def test_Zee(q00,q01,q11,q20,q21,q22):\n",
    "    m_e=0.5109989461e-3;m_mu=0.1056583745;m_tau=1.77686\n",
    "    mlep=np.diag([m_e,m_mu,m_tau])\n",
    "    m1=0 # lightest neutrino \n",
    "    s2phi=1.4E-02; M1=200.0; M2=300.0\n",
    "    t12 = 33.56*np.pi/180.0 \n",
    "    t13 = 8.46*np.pi/180.0 \n",
    "    t23 = 41.6*np.pi/180.0\n",
    "    X=Inverse_Zee_Matrix(t12,t13,t23,m1)\n",
    "    k=Kappa(s2phi,M1,M2)\n",
    "    O,f=get_yukawas(X,q00,q01,q11,q20,q21,q22,k) #Use default input values\n",
    "    #print O\n",
    "    #print f\n",
    "    Mnu=k*( np.dot( np.dot(O,mlep),f.transpose() )+np.dot( np.dot(f,mlep),O.transpose()) )\n",
    "    #print Mnu\n",
    "    Mnu_diag,U=np.linalg.eig(Mnu)\n",
    "    lo=np.argsort(np.abs(Mnu_diag))\n",
    "    Mnu_diag=np.array([Mnu_diag[lo[0]],Mnu_diag[lo[1]],Mnu_diag[lo[2]]])\n",
    "    U=np.matrix(U)\n",
    "    U=np.asarray(np.hstack((U[:,lo[0]],U[:,lo[1]],U[:,lo[2]])))\n",
    "    \n",
    "    mltmp,Dm21_2,Dm3l_2,theta12,theta23,theta13,delta=hp.neutrino_data(CL=3,IH=False,mnu1in=1E-5*1E-9)\n",
    "    m2=np.sqrt(Dm21_2[1]+m1**2); m3=np.sqrt(Dm3l_2[1]+m1**2)\n",
    "    theta12[1] = t12\n",
    "    theta13[1] = t13\n",
    "    theta23[1] = t23\n",
    "    print Mnu_diag\n",
    "    print np.abs([m1,m2,m3])\n",
    "    np.testing.assert_array_almost_equal(np.abs(U),\\\n",
    "        np.abs( hp.UPMNS(theta12[1],theta13[1],theta23[1]) ) )\n",
    "    \n",
    "    return np.testing.assert_almost_equal( np.abs(Mnu_diag),np.abs([m1,m2,m3]) ) "
   ]
  },
  {
   "cell_type": "code",
   "execution_count": 8,
   "metadata": {},
   "outputs": [
    {
     "name": "stdout",
     "output_type": "stream",
     "text": [
      "[-2.33127925e-25 -8.66025404e-12  5.02394267e-11]\n",
      "[0.00000000e+00 8.66025404e-12 5.02394267e-11]\n"
     ]
    }
   ],
   "source": [
    "test_Zee(q00=1e-02,q01=1e-3,q11=1e-2,q20=5e-1,q21=-1e-3,q22=1e-3)"
   ]
  },
  {
   "cell_type": "markdown",
   "metadata": {},
   "source": [
    "\n",
    "## Check one point"
   ]
  },
  {
   "cell_type": "code",
   "execution_count": 9,
   "metadata": {},
   "outputs": [],
   "source": [
    "a=hp.hep(MODEL='radinuZeeHB')"
   ]
  },
  {
   "cell_type": "markdown",
   "metadata": {},
   "source": [
    "`a-object` is an object with many attributes and methods. Use the tab to explore them. Some of them are\n",
    "* a.Series: [pandas](http://pandas.pydata.org/) Series object with the \"relevant\" variables \n",
    "* a.LHA: Input LesHouces file as [pyslha](https://pypi.python.org/pypi/pyslha/) object\n",
    "* a.runSPheno() -> a.LHA_out: return LHA output files as [pyslha](https://pypi.python.org/pypi/pyslha/) object\n",
    "* a.runmicromegas() -> a.runSPheno() -> Updated the `a-object`  with micrOMEGAS \"relevant\" output"
   ]
  },
  {
   "cell_type": "code",
   "execution_count": 10,
   "metadata": {},
   "outputs": [
    {
     "data": {
      "text/plain": [
       "1      1.0000000E-01   # lambda1Input\n",
       "2      1.3000000E-01   # lambda2Input\n",
       "3      1.1000000E+00   # lambda3Input\n",
       "4      -5.0000000E-01  # lambda4Input\n",
       "5      5.0000000E-01   # lambda5Input\n",
       "6      0.000000E+00    # lambda6Input\n",
       "7      0.000000E+00    # lambda7Input\n",
       "8      0.000000E+00    # lambda8Input\n",
       "9      0.000000E+00    # lambda9Input\n",
       "10    0.000000E+00    # lambda10Input\n",
       "11     0.000000E+00    # lambdahInput\n",
       "12          0.000000E+00    # MhInput\n",
       "13          0.000000E+00    # MuInput\n",
       "14        4.0000000E+04   # mEt2Input\n",
       "dtype: object"
      ]
     },
     "execution_count": 10,
     "metadata": {},
     "output_type": "execute_result"
    }
   ],
   "source": [
    "pd.Series(a.LHA.blocks['MINPAR'].entries)"
   ]
  },
  {
   "cell_type": "markdown",
   "metadata": {},
   "source": [
    "for i in something...."
   ]
  },
  {
   "cell_type": "code",
   "execution_count": 11,
   "metadata": {},
   "outputs": [
    {
     "name": "stdout",
     "output_type": "stream",
     "text": [
      "-2.733277634389549e-05 -1.3066884974335997 0.25773432452768236 1.6495488117759323 1.3661422169590498 -0.05979477179826951 1.0721200382534934\n"
     ]
    }
   ],
   "source": [
    "v = a.vev\n",
    "s2phi=1.4E-02 \n",
    "M1=350.0 \n",
    "M2=M1-50.0\n",
    "Mho = 125.0\n",
    "MHo = M1+10.0\n",
    "MAo = MHo+5.0\n",
    "Mu22 = 200.0**2\n",
    "Muh2 = 300.0**2\n",
    "\n",
    "lam6 = 1.000000E-03     # lambda6Inputd \n",
    "lam7 = 1.000000E-02     # lambda7Input\n",
    "\n",
    "lam2 = 1.3000000E-01    # lambda2Input\n",
    "lam9 = 0.000000E+00     # lambda9Input\n",
    "lam10 = 0.000000E+00    # lambda10Input\n",
    "lamh = 0.000000E+00     # lambdahInput\n",
    "\n",
    "\n",
    "k, Mu, lam1, lam3, lam4, lam5, lam8 = func(s2phi, M1, M2, MAo, Mho, MHo, v, Mu22, Muh2, lam6, lam7)\n",
    "print k, Mu, lam1, lam3, lam4, lam5, lam8"
   ]
  },
  {
   "cell_type": "code",
   "execution_count": 15,
   "metadata": {},
   "outputs": [],
   "source": [
    "Me   = 0.5109989461e-3     #Masa Electron en GeV\n",
    "Mmu  = 0.1056583745        #Masa Muon en GeV\n",
    "Mtau = 1.77686             #Masa Tauon en GeV\n",
    "\n",
    "df = pd.DataFrame()\n",
    "\n",
    "devnull=commands.getoutput('rm -f SPheno.spc.%s' %a.MODEL)\n",
    "\n",
    "a.LHA.blocks['SPHENOINPUT'].entries[55]='0               # Calculate one loop masses'\n",
    "a.LHA.blocks['MINPAR'][1]='%0.8E       #lambda1Input' %lam1\n",
    "a.LHA.blocks['MINPAR'][2]='%0.8E       #lambda2Input' %lam2\n",
    "a.LHA.blocks['MINPAR'][3]='%0.8E       #lambda3Input' %lam3\n",
    "a.LHA.blocks['MINPAR'][4]='%0.8E       #lambda4Input' %lam4\n",
    "a.LHA.blocks['MINPAR'][5]='%0.8E       #lambda5Input' %lam5\n",
    "a.LHA.blocks['MINPAR'][6]='%0.8E       #lambda6Input' %lam6\n",
    "a.LHA.blocks['MINPAR'][7]='%0.8E       #lambda7Input' %lam7\n",
    "a.LHA.blocks['MINPAR'][8]='%0.8E       #lambda8Input' %lam8\n",
    "a.LHA.blocks['MINPAR'][9]='%0.8E       #lambda9Input' %lam9\n",
    "a.LHA.blocks['MINPAR'][10]='%0.8E      #lambda10Input'%lam10\n",
    "a.LHA.blocks['MINPAR'][11]='%0.8E      #lambdahInput' %lamh\n",
    "a.LHA.blocks['MINPAR'][12]='%0.8E      #MhInput'      %Muh2\n",
    "a.LHA.blocks['MINPAR'][13]='%0.8E      #MuInput'      %Mu\n",
    "a.LHA.blocks['MINPAR'][14]='%0.8E      #mEt2Input'    %Mu22\n",
    "\n",
    "m3=1.0e-17  # lightest neutrino\n",
    "t12=33.56*180.0/np.pi\n",
    "t13=8.49*180.0/np.pi\n",
    "t23=41.6*180.0/np.pi\n",
    "X=Inverse_Zee_Matrix(t12,t13,t23,m3,IH=True)\n",
    "O,f=get_yukawas(X,q00=-4.255172e-03,q01=2.412983e-05,q11=3.109212e-11,q20=-4.987462e-04,q21=-2.227795e-05,q22=3.246787e-08)\n",
    "    \n",
    "Yh11 = 0.0        # Yh(1,1)\n",
    "Yh12 = f[0,1]     # Yh(1,2)\n",
    "Yh13 = f[0,2]     # Yh(1,3)\n",
    "Yh21 = f[1,0]     # Yh(2,1)\n",
    "Yh22 = 0.0        # Yh(2,2)\n",
    "Yh23 = f[1,2]     # Yh(2,3)\n",
    "Yh31 = f[2,0]     # Yh(3,1)\n",
    "Yh32 = f[2,1]     # Yh(3,2)\n",
    "Yh33 = 0.0        # Yh(3,3)\n",
    "\n",
    "a.LHA.blocks['YHIN'][(1,1)]='%0.8E      # Yh(1,1)'    %Yh11\n",
    "a.LHA.blocks['YHIN'][(1,2)]='%0.8E      # Yh(1,2)'    %Yh12\n",
    "a.LHA.blocks['YHIN'][(1,3)]='%0.8E      # Yh(1,3)'    %Yh13\n",
    "a.LHA.blocks['YHIN'][(2,1)]='%0.8E      # Yh(2,1)'    %Yh21\n",
    "a.LHA.blocks['YHIN'][(2,2)]='%0.8E      # Yh(2,2)'    %Yh22\n",
    "a.LHA.blocks['YHIN'][(2,3)]='%0.8E      # Yh(2,3)'    %Yh23\n",
    "a.LHA.blocks['YHIN'][(3,1)]='%0.8E      # Yh(3,1)'    %Yh31\n",
    "a.LHA.blocks['YHIN'][(3,2)]='%0.8E      # Yh(3,2)'    %Yh32\n",
    "a.LHA.blocks['YHIN'][(3,3)]='%0.8E      # Yh(3,3)'    %Yh33\n",
    "\n",
    "epsE11 = O[0,0]          # epsE(1,1)\n",
    "epsE12 = O[0,1]          # epsE(1,2)\n",
    "epsE13 = O[0,2]          # epsE(1,3)\n",
    "epsE21 = O[1,0]          # epsE(2,1)\n",
    "epsE22 = O[1,1]          # epsE(2,2)\n",
    "epsE23 = O[1,2]          # epsE(2,3)\n",
    "epsE31 = O[2,0]          # epsE(3,1)\n",
    "epsE32 = O[2,1]          # epsE(3,2)\n",
    "epsE33 = O[2,2]          # epsE(3,3)\n",
    "\n",
    "a.LHA.blocks['EPSEIN'][(1,1)]='%0.8E      # epsE(1,1)'    %epsE11\n",
    "a.LHA.blocks['EPSEIN'][(1,2)]='%0.8E      # epsE(1,2)'    %epsE12\n",
    "a.LHA.blocks['EPSEIN'][(1,3)]='%0.8E      # epsE(1,3)'    %epsE13\n",
    "a.LHA.blocks['EPSEIN'][(2,1)]='%0.8E      # epsE(2,1)'    %epsE21\n",
    "a.LHA.blocks['EPSEIN'][(2,2)]='%0.8E      # epsE(2,2)'    %epsE22\n",
    "a.LHA.blocks['EPSEIN'][(2,3)]='%0.8E      # epsE(2,3)'    %epsE23\n",
    "a.LHA.blocks['EPSEIN'][(3,1)]='%0.8E      # epsE(3,1)'    %epsE31\n",
    "a.LHA.blocks['EPSEIN'][(3,2)]='%0.8E      # epsE(3,2)'    %epsE32\n",
    "a.LHA.blocks['EPSEIN'][(3,3)]='%0.8E      # epsE(3,3)'    %epsE33\n",
    "    \n",
    "tanbetha = 1.0\n",
    "\n",
    "Yd33 = 0.0240086062\n",
    "Yu33 = 0.996529469\n",
    "epsD33 =-Yd33*tanbetha\n",
    "epsU33 = Yu33*tanbetha \n",
    "    \n",
    "a.LHA.blocks['EPSDIN'][(3,3)]='%0.8E      # epsD(3,3)'    %epsD33\n",
    "a.LHA.blocks['EPSUIN'][(3,3)]='%0.8E      # epsU(3,3)'    %epsU33\n",
    "\n",
    "moc=a.runSPheno() \n",
    "\n",
    "a.Series=a.Series.append(hp.block_to_series(a.LHA_out_with_comments.blocks['MASS']))\n",
    "a.branchings(a.LHA_out.decays,min_pdg=25)\n",
    "a.Series=a.Series.append(a.Br_names)\n",
    "a.Series=a.Series.append(hp.block_to_series(a.LHA_out_with_comments.blocks['FLAVORKITLFV']))\n",
    "\n",
    "df=df.append(a.Series,ignore_index=True)\n",
    "df=df.fillna(0)"
   ]
  },
  {
   "cell_type": "code",
   "execution_count": 16,
   "metadata": {},
   "outputs": [
    {
     "name": "stdout",
     "output_type": "stream",
     "text": [
      "[-3.80182356e-18 -1.87757743e-11  1.90622690e-11]\n",
      "[[-0.48441403 -0.85882061  0.16664393]\n",
      " [ 0.7188595  -0.28219721  0.63529974]\n",
      " [-0.49858206  0.42754168  0.75407164]]\n"
     ]
    }
   ],
   "source": [
    "m_e=0.5109989461e-3;m_mu=0.1056583745;m_tau=1.77686\n",
    "mlep=np.diag([m_e,m_mu,m_tau])\n",
    "Mnu = k*( np.dot( np.dot(O,mlep),f.transpose() )+np.dot( np.dot(f,mlep),O.transpose()) )\n",
    "Mnu_diag,U=np.linalg.eig(Mnu)\n",
    "lo=np.argsort(np.abs(Mnu_diag))\n",
    "Mnu_diag=np.array([Mnu_diag[lo[0]],Mnu_diag[lo[1]],Mnu_diag[lo[2]]])\n",
    "U=np.matrix(U)\n",
    "U=np.asarray(np.hstack((U[:,lo[0]],U[:,lo[1]],U[:,lo[2]])))\n",
    "print Mnu_diag # m\n",
    "print U\n"
   ]
  },
  {
   "cell_type": "code",
   "execution_count": 17,
   "metadata": {},
   "outputs": [
    {
     "data": {
      "text/plain": [
       "_dict([(25, '1.25000000E+02  # hh_1'),\n",
       "       (35, '3.60000000E+02  # hh_2'),\n",
       "       (37, '3.00000000E+02  # Hm_2'),\n",
       "       (900037, '3.50000000E+02  # Hm_3'),\n",
       "       (36, '3.65000000E+02  # etI'),\n",
       "       (23, '9.11887000E+01  # VZ'),\n",
       "       (24, '8.03497269E+01  # VWp'),\n",
       "       (1, '5.00000000E-03  # Fd_1'),\n",
       "       (3, '9.50000000E-02  # Fd_2'),\n",
       "       (5, '4.18000000E+00  # Fd_3'),\n",
       "       (2, '2.50000000E-03  # Fu_1'),\n",
       "       (4, '1.27000000E+00  # Fu_2'),\n",
       "       (6, '1.73500000E+02  # Fu_3'),\n",
       "       (11, '5.10998930E-04  # Fe_1'),\n",
       "       (13, '1.05658372E-01  # Fe_2'),\n",
       "       (15, '1.77669000E+00  # Fe_3'),\n",
       "       (12, '3.03523722E-16  # Fv_1'),\n",
       "       (14, '-1.91763920E-11 # Fv_2'),\n",
       "       (16, '1.94780148E-11  # Fv_3')])"
      ]
     },
     "execution_count": 17,
     "metadata": {},
     "output_type": "execute_result"
    }
   ],
   "source": [
    "a.LHA_out_with_comments.blocks['MASS'].entries"
   ]
  },
  {
   "cell_type": "code",
   "execution_count": null,
   "metadata": {},
   "outputs": [],
   "source": []
  },
  {
   "cell_type": "markdown",
   "metadata": {},
   "source": [
    "[![Home](http://www.incredimail.com/images/nav%20bar/home-icon.png)](./) \n",
    "[Jupyter home](./draft.pdf)"
   ]
  }
 ],
 "metadata": {
  "kernelspec": {
   "display_name": "Python 2",
   "language": "python",
   "name": "python2"
  },
  "language_info": {
   "codemirror_mode": {
    "name": "ipython",
    "version": 2
   },
   "file_extension": ".py",
   "mimetype": "text/x-python",
   "name": "python",
   "nbconvert_exporter": "python",
   "pygments_lexer": "ipython2",
   "version": "2.7.12"
  }
 },
 "nbformat": 4,
 "nbformat_minor": 1
}
